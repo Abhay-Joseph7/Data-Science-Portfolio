{
 "cells": [
  {
   "cell_type": "code",
   "execution_count": 3,
   "id": "11d56e9b",
   "metadata": {},
   "outputs": [],
   "source": [
    "import pandas as pd\n",
    "import numpy as np\n",
    "import matplotlib.pyplot as plt\n",
    "%matplotlib inline\n",
    "from sklearn import linear_model\n",
    "from sklearn.datasets import load_digits"
   ]
  },
  {
   "cell_type": "code",
   "execution_count": 6,
   "id": "cdacbb4a",
   "metadata": {},
   "outputs": [
    {
     "data": {
      "text/plain": [
       "['DESCR', 'data', 'feature_names', 'frame', 'images', 'target', 'target_names']"
      ]
     },
     "execution_count": 6,
     "metadata": {},
     "output_type": "execute_result"
    }
   ],
   "source": [
    "digits = load_digits()\n",
    "dir(digits)"
   ]
  },
  {
   "cell_type": "code",
   "execution_count": 17,
   "id": "6c03e02d",
   "metadata": {},
   "outputs": [],
   "source": [
    "from sklearn.linear_model import LogisticRegression\n",
    "model = LogisticRegression()"
   ]
  },
  {
   "cell_type": "code",
   "execution_count": 30,
   "id": "76697124",
   "metadata": {
    "scrolled": true
   },
   "outputs": [],
   "source": [
    "from sklearn.model_selection import train_test_split\n",
    "X_train, X_test, y_train, y_test = train_test_split(digits.data,digits.target, test_size=0.3)"
   ]
  },
  {
   "cell_type": "code",
   "execution_count": 31,
   "id": "1f8f5318",
   "metadata": {
    "scrolled": true
   },
   "outputs": [
    {
     "name": "stderr",
     "output_type": "stream",
     "text": [
      "E:\\Anaconda\\lib\\site-packages\\sklearn\\linear_model\\_logistic.py:763: ConvergenceWarning: lbfgs failed to converge (status=1):\n",
      "STOP: TOTAL NO. of ITERATIONS REACHED LIMIT.\n",
      "\n",
      "Increase the number of iterations (max_iter) or scale the data as shown in:\n",
      "    https://scikit-learn.org/stable/modules/preprocessing.html\n",
      "Please also refer to the documentation for alternative solver options:\n",
      "    https://scikit-learn.org/stable/modules/linear_model.html#logistic-regression\n",
      "  n_iter_i = _check_optimize_result(\n"
     ]
    },
    {
     "data": {
      "text/plain": [
       "LogisticRegression()"
      ]
     },
     "execution_count": 31,
     "metadata": {},
     "output_type": "execute_result"
    }
   ],
   "source": [
    "model.fit(X_train,y_train)"
   ]
  },
  {
   "cell_type": "code",
   "execution_count": 34,
   "id": "77a954cd",
   "metadata": {
    "scrolled": true
   },
   "outputs": [
    {
     "data": {
      "text/plain": [
       "0.9555555555555556"
      ]
     },
     "execution_count": 34,
     "metadata": {},
     "output_type": "execute_result"
    }
   ],
   "source": [
    "model.score(X_test,y_test)"
   ]
  },
  {
   "cell_type": "code",
   "execution_count": 35,
   "id": "d3c1fe6f",
   "metadata": {},
   "outputs": [
    {
     "data": {
      "text/plain": [
       "array([9, 0, 0, 2, 1, 6, 5, 5, 5, 2, 0, 9, 8, 4, 1, 2, 7, 1, 9, 9, 1, 1,\n",
       "       0, 4, 7, 5, 4, 5, 2, 1, 2, 5, 4, 9, 1, 4, 9, 7, 3, 2, 7, 9, 3, 1,\n",
       "       3, 4, 6, 1, 3, 5, 6, 6, 4, 9, 7, 3, 2, 1, 5, 2, 1, 7, 6, 3, 8, 3,\n",
       "       9, 7, 5, 7, 4, 3, 8, 8, 5, 7, 4, 8, 1, 1, 2, 8, 1, 3, 4, 1, 2, 7,\n",
       "       9, 2, 6, 1, 2, 9, 3, 9, 8, 8, 5, 9, 2, 1, 7, 1, 1, 5, 7, 1, 1, 1,\n",
       "       4, 7, 0, 7, 6, 1, 0, 7, 8, 7, 2, 5, 4, 6, 5, 8, 3, 2, 9, 2, 4, 7,\n",
       "       9, 5, 8, 3, 4, 0, 1, 6, 9, 5, 7, 3, 7, 4, 9, 1, 4, 4, 7, 0, 0, 8,\n",
       "       7, 2, 1, 8, 5, 2, 9, 5, 8, 7, 2, 1, 7, 2, 6, 9, 4, 5, 1, 7, 0, 9,\n",
       "       4, 6, 1, 0, 7, 0, 0, 8, 2, 1, 3, 5, 7, 8, 6, 9, 9, 6, 3, 4, 9, 3,\n",
       "       6, 8, 0, 3, 9, 9, 9, 1, 5, 7, 3, 4, 6, 8, 2, 2, 7, 8, 3, 5, 9, 9,\n",
       "       2, 2, 0, 7, 4, 6, 9, 8, 7, 7, 6, 1, 9, 6, 3, 2, 1, 4, 2, 3, 7, 7,\n",
       "       7, 3, 6, 8, 8, 7, 9, 9, 9, 3, 8, 0, 2, 6, 2, 6, 6, 9, 9, 4, 3, 4,\n",
       "       4, 9, 4, 1, 1, 3, 5, 0, 9, 4, 8, 5, 9, 3, 0, 1, 5, 3, 3, 1, 3, 4,\n",
       "       8, 3, 2, 1, 6, 4, 5, 2, 6, 9, 7, 2, 2, 9, 4, 7, 4, 6, 0, 1, 8, 1,\n",
       "       7, 8, 2, 0, 1, 3, 8, 8, 0, 3, 1, 0, 8, 0, 1, 8, 5, 4, 7, 0, 6, 1,\n",
       "       4, 6, 5, 6, 6, 6, 9, 8, 8, 1, 2, 2, 9, 3, 2, 4, 3, 7, 7, 2, 4, 3,\n",
       "       5, 2, 7, 7, 5, 4, 2, 4, 1, 4, 5, 7, 1, 6, 7, 5, 4, 9, 8, 5, 7, 2,\n",
       "       2, 3, 1, 3, 0, 5, 6, 7, 8, 7, 1, 3, 7, 5, 5, 9, 3, 5, 8, 9, 7, 9,\n",
       "       5, 2, 2, 9, 6, 4, 2, 1, 8, 0, 0, 5, 7, 9, 7, 8, 3, 2, 3, 6, 7, 0,\n",
       "       4, 4, 4, 2, 2, 5, 8, 5, 4, 0, 8, 7, 7, 8, 9, 8, 6, 9, 6, 7, 9, 2,\n",
       "       1, 1, 9, 2, 3, 0, 4, 7, 0, 9, 6, 1, 2, 0, 1, 9, 7, 3, 3, 1, 7, 6,\n",
       "       5, 0, 0, 7, 6, 9, 1, 5, 8, 6, 0, 2, 0, 2, 0, 1, 0, 4, 2, 2, 0, 8,\n",
       "       5, 5, 5, 3, 3, 6, 3, 5, 5, 9, 4, 7, 1, 9, 0, 6, 0, 3, 7, 2, 1, 2,\n",
       "       3, 1, 9, 1, 3, 0, 5, 9, 4, 4, 1, 0, 0, 3, 1, 9, 7, 5, 8, 0, 9, 1,\n",
       "       6, 5, 7, 8, 9, 3, 2, 9, 9, 8, 5, 6])"
      ]
     },
     "execution_count": 35,
     "metadata": {},
     "output_type": "execute_result"
    }
   ],
   "source": [
    "model.predict(X_test)"
   ]
  },
  {
   "cell_type": "code",
   "execution_count": 36,
   "id": "b92acd3a",
   "metadata": {},
   "outputs": [
    {
     "data": {
      "text/plain": [
       "array([[45,  0,  1,  0,  0,  0,  0,  0,  0,  0],\n",
       "       [ 0, 58,  0,  0,  1,  0,  0,  0,  0,  0],\n",
       "       [ 0,  0, 55,  0,  0,  0,  0,  0,  1,  0],\n",
       "       [ 0,  0,  0, 49,  0,  0,  0,  0,  0,  1],\n",
       "       [ 0,  1,  0,  0, 48,  0,  1,  0,  1,  0],\n",
       "       [ 0,  0,  1,  1,  0, 51,  0,  0,  0,  3],\n",
       "       [ 0,  1,  0,  0,  0,  1, 43,  0,  0,  0],\n",
       "       [ 0,  0,  0,  1,  1,  0,  0, 64,  0,  1],\n",
       "       [ 0,  3,  1,  0,  0,  0,  0,  0, 45,  1],\n",
       "       [ 0,  1,  0,  1,  0,  0,  0,  0,  0, 58]], dtype=int64)"
      ]
     },
     "execution_count": 36,
     "metadata": {},
     "output_type": "execute_result"
    }
   ],
   "source": [
    "y_predicted = model.predict(X_test)\n",
    "from sklearn.metrics import confusion_matrix\n",
    "cm = confusion_matrix(y_test, y_predicted)\n",
    "cm"
   ]
  },
  {
   "cell_type": "code",
   "execution_count": 37,
   "id": "c2b9ee09",
   "metadata": {},
   "outputs": [
    {
     "data": {
      "text/plain": [
       "Text(69.0, 0.5, 'Truth')"
      ]
     },
     "execution_count": 37,
     "metadata": {},
     "output_type": "execute_result"
    },
    {
     "data": {
      "image/png": "[encoded data removed]",
      "text/plain": [
       "<Figure size 720x504 with 2 Axes>"
      ]
     },
     "metadata": {
      "needs_background": "light"
     },
     "output_type": "display_data"
    }
   ],
   "source": [
    "import seaborn as sn\n",
    "plt.figure(figsize = (10,7))\n",
    "sn.heatmap(cm, annot=True)\n",
    "plt.xlabel('Predicted')\n",
    "plt.ylabel('Truth')"
   ]
  }
 ],
 "metadata": {
  "kernelspec": {
   "display_name": "Python 3 (ipykernel)",
   "language": "python",
   "name": "python3"
  },
  "language_info": {
   "codemirror_mode": {
    "name": "ipython",
    "version": 3
   },
   "file_extension": ".py",
   "mimetype": "text/x-python",
   "name": "python",
   "nbconvert_exporter": "python",
   "pygments_lexer": "ipython3",
   "version": "3.9.7"
  }
 },
 "nbformat": 4,
 "nbformat_minor": 5
}
